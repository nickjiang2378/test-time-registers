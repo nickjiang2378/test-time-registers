{
 "cells": [
  {
   "cell_type": "code",
   "execution_count": 1,
   "metadata": {},
   "outputs": [],
   "source": [
    "import sys\n",
    "import os\n",
    "from shared.utils import load_images\n",
    "\n",
    "sys.path.append(\"/home/nickj/vit_register_neurons/clip\")\n",
    "sys.path.append(\"/home/nickj/vit_register_neurons/dinov2\")\n"
   ]
  },
  {
   "cell_type": "code",
   "execution_count": 2,
   "metadata": {},
   "outputs": [
    {
     "name": "stderr",
     "output_type": "stream",
     "text": [
      "/home/nickj/miniconda3/envs/vit_register_neurons2/lib/python3.10/site-packages/tqdm/auto.py:21: TqdmWarning: IProgress not found. Please update jupyter and ipywidgets. See https://ipywidgets.readthedocs.io/en/stable/user_install.html\n",
      "  from .autonotebook import tqdm as notebook_tqdm\n",
      "/home/nickj/miniconda3/envs/vit_register_neurons2/lib/python3.10/site-packages/timm/models/layers/__init__.py:48: FutureWarning: Importing from timm.models.layers is deprecated, please import via timm.layers\n",
      "  warnings.warn(f\"Importing from {__name__} is deprecated, please import via timm.layers\", FutureWarning)\n"
     ]
    }
   ],
   "source": [
    "model_name = \"clip\"\n",
    "\n",
    "if model_name == \"dinov2\":\n",
    "  from dinov2_state import load_dinov2_state\n",
    "\n",
    "  config = {\n",
    "    \"backbone_size\": \"large\",\n",
    "    \"device\": \"cuda:0\",\n",
    "  }\n",
    "\n",
    "  state = load_dinov2_state(config)\n",
    "elif model_name == \"clip\":\n",
    "  from clip_state import load_clip_state\n",
    "\n",
    "  config = {\n",
    "    \"pretrained\": \"openai\",\n",
    "    \"model_name\": \"ViT-B-16\",\n",
    "    \"device\": \"cuda:0\",\n",
    "  }\n",
    "\n",
    "  state = load_clip_state(config)\n",
    "else:\n",
    "  raise ValueError(f\"Model {model_name} not supported\")\n"
   ]
  },
  {
   "cell_type": "code",
   "execution_count": 3,
   "metadata": {},
   "outputs": [
    {
     "name": "stdout",
     "output_type": "stream",
     "text": [
      "Loaded 10 images\n"
     ]
    }
   ],
   "source": [
    "IMAGENET_PATH = \"/datasets/ilsvrc/current/val\" # Pass in path to ImageNet\n",
    "\n",
    "images = load_images(IMAGENET_PATH, count = 10)\n",
    "\n",
    "run_model = state[\"run_model\"]\n",
    "model = state[\"model\"]\n",
    "preprocess = state[\"preprocess\"]\n",
    "device = \"cuda:0\""
   ]
  },
  {
   "cell_type": "code",
   "execution_count": 4,
   "metadata": {},
   "outputs": [],
   "source": [
    "image = preprocess(images[0]).unsqueeze(0).to(device)\n",
    "\n",
    "representation = run_model(model, image)"
   ]
  },
  {
   "cell_type": "code",
   "execution_count": null,
   "metadata": {},
   "outputs": [],
   "source": []
  }
 ],
 "metadata": {
  "kernelspec": {
   "display_name": "vit_register_neurons2",
   "language": "python",
   "name": "python3"
  },
  "language_info": {
   "codemirror_mode": {
    "name": "ipython",
    "version": 3
   },
   "file_extension": ".py",
   "mimetype": "text/x-python",
   "name": "python",
   "nbconvert_exporter": "python",
   "pygments_lexer": "ipython3",
   "version": "3.12.9"
  }
 },
 "nbformat": 4,
 "nbformat_minor": 2
}
